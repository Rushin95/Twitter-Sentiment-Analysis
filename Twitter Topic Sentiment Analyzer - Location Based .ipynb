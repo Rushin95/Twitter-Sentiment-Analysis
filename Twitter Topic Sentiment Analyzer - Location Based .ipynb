{
 "cells": [
  {
   "cell_type": "code",
   "execution_count": 1,
   "metadata": {
    "collapsed": false
   },
   "outputs": [],
   "source": [
    "# import the required packages for the execution of the program\n",
    "import pandas as pd\n",
    "import numpy as np\n",
    "import tweepy\n",
    "import json\n",
    "from geopy.geocoders import Nominatim\n",
    "import time\n",
    "import textblob\n",
    "import re\n",
    "\n",
    "from nltk.tokenize import word_tokenize\n",
    "import matplotlib.pyplot as plt\n",
    "from nltk.corpus import stopwords\n",
    "from nltk.corpus import brown\n",
    "from nltk.stem.wordnet import WordNetLemmatizer\n",
    "import nltk\n",
    "import re\n",
    "import string"
   ]
  },
  {
   "cell_type": "code",
   "execution_count": 2,
   "metadata": {
    "collapsed": false
   },
   "outputs": [],
   "source": [
    "# save the twitter developer credentials for authentication\n",
    "consumer_key = 'PekUwhQ8NaIB7kye74Zuwc5zN'\n",
    "consumer_secret = 'ODZYsTbtG6JJrWZnQC8hARISSRcwN5uwiZdve3U9B0JbR7xXfg'\n",
    "access_token = '832994996-2VqZdSdihKUdl73ONGtoPWfIIuV3l1xY0RG11cAr'\n",
    "access_token_secret = 'crUrKJajF3f4puuVGgLNQxFZPShTikHuxg3Of0RRiSB0h'"
   ]
  },
  {
   "cell_type": "code",
   "execution_count": 3,
   "metadata": {
    "collapsed": true
   },
   "outputs": [],
   "source": [
    "# initialize authorization instance using credentials\n",
    "authorization_instance = tweepy.OAuthHandler(consumer_key,consumer_secret)\n",
    "authorization_instance.set_access_token(access_token, access_token_secret)\n",
    "authorization_instance.secure = True"
   ]
  },
  {
   "cell_type": "code",
   "execution_count": 4,
   "metadata": {
    "collapsed": false
   },
   "outputs": [
    {
     "data": {
      "text/plain": [
       "<tweepy.api.API at 0x193b01322b0>"
      ]
     },
     "execution_count": 4,
     "metadata": {},
     "output_type": "execute_result"
    }
   ],
   "source": [
    "# initialize the twitter API object\n",
    "twitter_api = tweepy.API(authorization_instance)\n",
    "twitter_api"
   ]
  },
  {
   "cell_type": "code",
   "execution_count": 5,
   "metadata": {
    "collapsed": true
   },
   "outputs": [],
   "source": [
    "# define a function to fetch tweets based on location and query string\n",
    "def get_tweets_by_location(query_string='', address_string='United States of America', tweet_count=1):\n",
    "    geolocator = Nominatim()\n",
    "    location = geolocator.geocode(address_string)\n",
    "    print('Using cordinates for location:', location.address)\n",
    "    latitude = str(location.latitude)\n",
    "    longitude = str(location.longitude)\n",
    "    radius='1000mi'\n",
    "    mygeocode = ','.join([latitude,longitude,radius])\n",
    "    print('geocode:',mygeocode)\n",
    "    custom_tweets = twitter_api.search(q = query_string, \n",
    "                                       show_user = True,\n",
    "                                       geocode = mygeocode, \n",
    "                                       lang = 'en', \n",
    "                                       tweet_mode = 'extended_mode',\n",
    "                                      count= tweet_count)\n",
    "    print(len(custom_tweets),'tweets found for the given query.')    \n",
    "    return custom_tweets\n",
    "\n",
    "    \n",
    "    "
   ]
  },
  {
   "cell_type": "code",
   "execution_count": 6,
   "metadata": {
    "collapsed": false
   },
   "outputs": [
    {
     "name": "stdout",
     "output_type": "stream",
     "text": [
      "Using cordinates for location: California, United States of America\n",
      "geocode: 36.7014631,-118.7559974,1000mi\n",
      "9 tweets found for the given query.\n"
     ]
    }
   ],
   "source": [
    "mytweets = get_tweets_by_location(query_string='Priyanka Chopra',\n",
    "                                  address_string='California, USA',\n",
    "                                  tweet_count = 10)"
   ]
  },
  {
   "cell_type": "code",
   "execution_count": 7,
   "metadata": {
    "collapsed": false
   },
   "outputs": [
    {
     "name": "stdout",
     "output_type": "stream",
     "text": [
      "HemantK647\n",
      "2018-04-08 04:38:53\n",
      "RT @ms_shreya: every now and then someone will tell me I look a bit like Priyanka Chopra and all of a sudden I feel like the baddest bitch… \n",
      "\n",
      "Nitu_23\n",
      "2018-04-08 03:16:59\n",
      "RT @ms_shreya: every now and then someone will tell me I look a bit like Priyanka Chopra and all of a sudden I feel like the baddest bitch… \n",
      "\n",
      "ms_shreya\n",
      "2018-04-08 02:38:36\n",
      "every now and then someone will tell me I look a bit like Priyanka Chopra and all of a sudden I feel like the baddest bitch in town \n",
      "\n",
      "LitchyRaw\n",
      "2018-04-07 15:29:54\n",
      "RT @haybaycutiepie: Priyanka Chopra is a goddess 😍 https://t.co/KoDoy0tdwe \n",
      "\n",
      "yasiru_vismini\n",
      "2018-04-07 05:50:57\n",
      "RT @haybaycutiepie: Priyanka Chopra is a goddess 😍 https://t.co/KoDoy0tdwe \n",
      "\n",
      "VikashS06547215\n",
      "2018-04-07 01:07:44\n",
      "RT @haybaycutiepie: Priyanka Chopra is a goddess 😍 https://t.co/KoDoy0tdwe \n",
      "\n",
      "socialcss_celeb\n",
      "2018-04-06 20:40:37\n",
      "https://t.co/2w6kZO8JpZ updates Priyanka Chopra https://t.co/MGtey1oSIn rank 83 to 82 \n",
      "\n",
      "newssummeduphq\n",
      "2018-04-06 19:13:09\n",
      "Quantico Season 3 trailer: Priyanka Chopra is back as Alex but this time, she’s undercover\n",
      " https://t.co/4pmnSeWdVF \n",
      "\n",
      "newssummeduphq\n",
      "2018-04-06 18:58:58\n",
      "Priyanka Chopra has a husband, daughter and enemies in Quantico teaser. Watch video\n",
      " https://t.co/GHIpFejYgu \n",
      "\n"
     ]
    }
   ],
   "source": [
    "# iterate through the results returned from the function\n",
    "for tweet in mytweets:\n",
    "    print(tweet.user.screen_name)\n",
    "    print(tweet.created_at)\n",
    "    print(tweet.text,'\\n')"
   ]
  },
  {
   "cell_type": "code",
   "execution_count": 8,
   "metadata": {
    "collapsed": true
   },
   "outputs": [],
   "source": [
    "# define a function to create a bag of words\n",
    "def do_tokenization(sentence_list):\n",
    "    tokenized_sentence_list = [word_tokenize(sentence) for sentence in sentence_list]\n",
    "    return tokenized_sentence_list\n",
    "\n",
    "# define a function to remove punctions and special characters\n",
    "def remove_punctuation(tokenized_sentence_list):\n",
    "    regex = re.compile('[%s]' % re.escape(string.punctuation)) #see documentation here: http://docs.python.org/2/library/string.html\n",
    "    tokenized_no_punc_sentence_list = []\n",
    "\n",
    "    for tokenized_sentence in tokenized_sentence_list:\n",
    "        new_tokenized_sentence_list = []\n",
    "        for word in tokenized_sentence: \n",
    "            new_word = regex.sub(u'', word)\n",
    "            if not new_word == u'':\n",
    "                new_tokenized_sentence_list.append(new_word)\n",
    "        tokenized_no_punc_sentence_list.append(new_tokenized_sentence_list)\n",
    "    return tokenized_no_punc_sentence_list\n",
    "\n",
    "# define a function to remove stopwords\n",
    "def remove_stopwords(tokenized_sentence_list):\n",
    "#     print('Started removing stopwords')\n",
    "    no_stopwords_sentence_list = []\n",
    "    for tokenized_sentence in tokenized_sentence_list:\n",
    "        for word in tokenized_sentence:\n",
    "            if word in stopwords.words('english') and word != 'not':\n",
    "                tokenized_sentence.remove(word)\n",
    "        no_stopwords_sentence_list.append(tokenized_sentence)\n",
    "    return no_stopwords_sentence_list\n",
    "\n",
    "\n",
    "# define a function to lemmitize the words\n",
    "def do_lemmitization(tokenized_sentence_list):\n",
    "    wnl = WordNetLemmatizer()\n",
    "    lemmitized_sentence_list = []\n",
    "\n",
    "    for tokenized_sentence in tokenized_sentence_list:\n",
    "        tokenized_sentence= list(map(wnl.lemmatize, tokenized_sentence))\n",
    "        lemmitized_sentence_list.append(tokenized_sentence)\n",
    "    return lemmitized_sentence_list\n",
    "\n",
    "# define a function to remove unwanted tags\n",
    "def remove_unwanted_tags(tokenized_sentence_list):\n",
    "    # parameter is list of tokenized sentence\n",
    "    '''\n",
    "    Removed Tags details:\n",
    "\n",
    "    MD: can,...\n",
    "    PRP$,PRP: my,they\n",
    "    DT,PDT\n",
    "    R\n",
    "    IN\n",
    "    CC\n",
    "    CD: cardinal number\n",
    "    VBZ\n",
    "\n",
    "    '''\n",
    "    for id1, each in enumerate(tokenized_sentence_list):\n",
    "\n",
    "        for id2,pair in enumerate(nltk.pos_tag(each)):\n",
    "            # print(pair)\n",
    "            if pair[1] in ['PRP','PDT','CC','DT','RP','IN','PRP$','MD','VBZ','CD','EX','VBN']:\n",
    "                tokenized_sentence_list[id1].remove(pair[0])\n",
    "    return tokenized_sentence_list\n",
    "    \n",
    "# define a driver function for preprocessing the tweets\n",
    "def do_preprocessing(list_of_tweets):\n",
    "    sentence_list = list_of_tweets\n",
    "    p1 = do_tokenization(sentence_list)\n",
    "    p2 = remove_punctuation(p1)\n",
    "    p3 = remove_stopwords(p2)\n",
    "    p4 = do_lemmitization(p3)\n",
    "    p5 = remove_unwanted_tags(p4)\n",
    "    \n",
    "    print(str(len(p5)),'tweets are preprocessed.\\nReturning pre-processed list of tokenized tweets. ')\n",
    "    return p5\n",
    "\n"
   ]
  },
  {
   "cell_type": "code",
   "execution_count": 34,
   "metadata": {
    "collapsed": true
   },
   "outputs": [],
   "source": [
    "# define a function to get polarity of the text\n",
    "def get_polarity(tweet_text):\n",
    "    tb = textblob.TextBlob(tweet_text)\n",
    "    return tb.sentiment.polarity\n",
    "    \n",
    "# define a function to get polarity of a given topic in a given region\n",
    "def get_polarity_by_topic_location(query_string='', address_string='United States of America', tweet_count=1):\n",
    "    tweets_list = []\n",
    "    geolocator = Nominatim()\n",
    "    location = geolocator.geocode(address_string)\n",
    "    #print('Using cordinates for location:', location.address)\n",
    "    \n",
    "    latitude = str(location.latitude)\n",
    "    longitude = str(location.longitude)\n",
    "    radius='1000mi'\n",
    "    mygeocode = ','.join([latitude,longitude,radius])\n",
    "    #print('geocode:',mygeocode)\n",
    "    \n",
    "    # get tweets from the twitter API\n",
    "    print('Fetching tweets for', query_string,'near', location.address)\n",
    "    tweets = twitter_api.search(q = query_string, \n",
    "                                       show_user = True,\n",
    "                                       geocode = mygeocode, \n",
    "                                       lang = 'en', \n",
    "                                       tweet_mode = 'extended_mode',\n",
    "                                      count= tweet_count)    \n",
    "    # create a list of tweets\n",
    "    for tweet in tweets:\n",
    "        tweets_list.append(tweet.text)\n",
    "    \n",
    "    \n",
    "    # preprocess the list of tweet text\n",
    "    preprocessed_tweets = [' '.join(word_list) for word_list in do_preprocessing(tweets_list)]\n",
    "    preprocessed_tweets\n",
    "    \n",
    "    polarity_sum = 0\n",
    "    n = len(preprocessed_tweets)\n",
    "    # add all polarity of all the tweets\n",
    "    for preprocessed_tweet in preprocessed_tweets:\n",
    "        polarity_sum += get_polarity(preprocessed_tweet)\n",
    "    \n",
    "    # calculate the mean polarity for the given topic and given location\n",
    "    mean_polarity = polarity_sum/n if n !=0 else 0\n",
    "    \n",
    "    print('Calculated mean polarity for', query_string,'near', location.address)\n",
    "    print('|')\n",
    "    return mean_polarity\n",
    "    "
   ]
  },
  {
   "cell_type": "code",
   "execution_count": 62,
   "metadata": {
    "collapsed": false
   },
   "outputs": [
    {
     "name": "stdout",
     "output_type": "stream",
     "text": [
      "Fetching tweets for Narendra Modi near California, United States of America\n",
      "99 tweets are preprocessed.\n",
      "Returning pre-processed list of tokenized tweets. \n",
      "Calculated mean polarity for Narendra Modi near California, United States of America\n",
      "|\n",
      "Fetching tweets for Blackbuck case near California, United States of America\n",
      "92 tweets are preprocessed.\n",
      "Returning pre-processed list of tokenized tweets. \n",
      "Calculated mean polarity for Blackbuck case near California, United States of America\n",
      "|\n",
      "Fetching tweets for MS Dhoni near California, United States of America\n",
      "99 tweets are preprocessed.\n",
      "Returning pre-processed list of tokenized tweets. \n",
      "Calculated mean polarity for MS Dhoni near California, United States of America\n",
      "|\n",
      "Fetching tweets for Donald Trump near California, United States of America\n",
      "99 tweets are preprocessed.\n",
      "Returning pre-processed list of tokenized tweets. \n",
      "Calculated mean polarity for Donald Trump near California, United States of America\n",
      "|\n",
      "Fetching tweets for Barack Obama near California, United States of America\n",
      "99 tweets are preprocessed.\n",
      "Returning pre-processed list of tokenized tweets. \n",
      "Calculated mean polarity for Barack Obama near California, United States of America\n",
      "|\n"
     ]
    }
   ],
   "source": [
    "polarity_dict = {}\n",
    "\n",
    "topic_list = ['Narendra Modi','Blackbuck case','MS Dhoni','Donald Trump','Barack Obama']\n",
    "\n",
    "# get mean polarity for all the topics\n",
    "for topic in topic_list:\n",
    "    polarity_dict[topic] = get_polarity_by_topic_location(query_string= topic,\n",
    "                                  address_string='California, USA',\n",
    "                                  tweet_count = 99)"
   ]
  },
  {
   "cell_type": "code",
   "execution_count": 63,
   "metadata": {
    "collapsed": false
   },
   "outputs": [
    {
     "name": "stdout",
     "output_type": "stream",
     "text": [
      "Narendra Modi 0.1151406197618319\n",
      "Blackbuck case -0.0018092414831545427\n",
      "MS Dhoni 0.10571698223213367\n",
      "Donald Trump -0.015488215488215485\n",
      "Barack Obama -0.026822609208972836\n"
     ]
    }
   ],
   "source": [
    "for key,value in polarity_dict.items():\n",
    "    print(key,value)"
   ]
  },
  {
   "cell_type": "code",
   "execution_count": 64,
   "metadata": {
    "collapsed": false
   },
   "outputs": [
    {
     "data": {
      "image/png": "[encoded data removed]",
      "text/plain": [
       "<matplotlib.figure.Figure at 0x193b6529588>"
      ]
     },
     "metadata": {},
     "output_type": "display_data"
    }
   ],
   "source": [
    "# plot graph\n",
    "\n",
    "fig = plt.figure(figsize=(1.75*len(polarity_dict.keys()),6))\n",
    "plot_topics = polarity_dict.keys()\n",
    "y_pos = np.arange(len(plot_topics))\n",
    "plt.bar(y_pos, polarity_dict.values(), align = 'center', alpha= 0.5)\n",
    "plt.xticks(y_pos, polarity_dict.keys())\n",
    "plt.ylabel('Mean Polarity')\n",
    "plt.title('Mean polarity for Topics')\n",
    "plt.show()\n"
   ]
  },
  {
   "cell_type": "markdown",
   "metadata": {},
   "source": []
  },
  {
   "cell_type": "code",
   "execution_count": null,
   "metadata": {
    "collapsed": true
   },
   "outputs": [],
   "source": []
  }
 ],
 "metadata": {
  "kernelspec": {
   "display_name": "Python 3",
   "language": "python",
   "name": "python3"
  },
  "language_info": {
   "codemirror_mode": {
    "name": "ipython",
    "version": 3
   },
   "file_extension": ".py",
   "mimetype": "text/x-python",
   "name": "python",
   "nbconvert_exporter": "python",
   "pygments_lexer": "ipython3",
   "version": "3.6.0"
  }
 },
 "nbformat": 4,
 "nbformat_minor": 2
}
