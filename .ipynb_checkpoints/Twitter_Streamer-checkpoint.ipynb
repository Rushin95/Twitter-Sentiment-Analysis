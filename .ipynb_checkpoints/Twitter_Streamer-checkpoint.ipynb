{
 "cells": [
  {
   "cell_type": "code",
   "execution_count": 1,
   "metadata": {
    "collapsed": false
   },
   "outputs": [],
   "source": [
    "# import the required packages for the execution of the program\n",
    "import pandas as pd\n",
    "import numpy as np\n",
    "import tweepy\n",
    "import json\n",
    "from geopy.geocoders import Nominatim\n",
    "import time"
   ]
  },
  {
   "cell_type": "code",
   "execution_count": 2,
   "metadata": {
    "collapsed": false
   },
   "outputs": [],
   "source": [
    "# save the twitter developer credentials for authentication\n",
    "consumer_key = 'PekUwhQ8NaIB7kye74Zuwc5zN'\n",
    "consumer_secret = 'ODZYsTbtG6JJrWZnQC8hARISSRcwN5uwiZdve3U9B0JbR7xXfg'\n",
    "access_token = '832994996-2VqZdSdihKUdl73ONGtoPWfIIuV3l1xY0RG11cAr'\n",
    "access_token_secret = 'crUrKJajF3f4puuVGgLNQxFZPShTikHuxg3Of0RRiSB0h'"
   ]
  },
  {
   "cell_type": "code",
   "execution_count": 3,
   "metadata": {
    "collapsed": true
   },
   "outputs": [],
   "source": [
    "# initialize authorization instance using credentials\n",
    "authorization_instance = tweepy.OAuthHandler(consumer_key,consumer_secret)\n",
    "authorization_instance.set_access_token(access_token, access_token_secret)\n",
    "authorization_instance.secure = True"
   ]
  },
  {
   "cell_type": "code",
   "execution_count": 4,
   "metadata": {
    "collapsed": false
   },
   "outputs": [
    {
     "data": {
      "text/plain": [
       "<tweepy.api.API at 0x1dbf87aa6d8>"
      ]
     },
     "execution_count": 4,
     "metadata": {},
     "output_type": "execute_result"
    }
   ],
   "source": [
    "# initialize the twitter API object\n",
    "twitter_api = tweepy.API(authorization_instance)\n",
    "twitter_api"
   ]
  },
  {
   "cell_type": "code",
   "execution_count": 5,
   "metadata": {
    "collapsed": true
   },
   "outputs": [],
   "source": [
    "# define a function to fetch tweets based on location and query string\n",
    "def get_tweets_by_location(query_string, address_string):\n",
    "    geolocator = Nominatim()\n",
    "    location = geolocator.geocode(address_string)\n",
    "    print('Using cordinates for location:', location.address)\n",
    "    latitude = str(location.latitude)\n",
    "    longitude = str(location.longitude)\n",
    "    radius='100mi'\n",
    "    mygeocode = ','.join([latitude,longitude,radius])\n",
    "    print('geocode:',mygeocode)\n",
    "    custom_tweets = twitter_api.search(q = query_string, show_user = True, geocode = mygeocode, lang = 'en')\n",
    "    print(len(custom_tweets),'tweets found for the given query.')    \n",
    "    return custom_tweets\n",
    "\n",
    "    \n",
    "    "
   ]
  },
  {
   "cell_type": "code",
   "execution_count": 6,
   "metadata": {
    "collapsed": false
   },
   "outputs": [
    {
     "name": "stdout",
     "output_type": "stream",
     "text": [
      "Using cordinates for location: Mumbai, Greater Bombay, Mumbai Suburban, Maharashtra, India\n",
      "geocode: 19.1334321,72.8882172,100mi\n",
      "14 tweets found for the given query.\n"
     ]
    }
   ],
   "source": [
    "mytweets = get_tweets_by_location(query_string='RanveerSingh',\n",
    "                      address_string='Mumbai, India')"
   ]
  },
  {
   "cell_type": "code",
   "execution_count": 7,
   "metadata": {
    "collapsed": false
   },
   "outputs": [
    {
     "name": "stdout",
     "output_type": "stream",
     "text": [
      "#AirportDiaries: @RanveerOfficial clicks a picture with Fans in his Funky Avataar\n",
      "@RanveerSingh_FC @RanveerSinghFC… https://t.co/yHJS8Zgbkc\n",
      "RT @LehrenNetworks: #UrvashiRautela #RanveerSingh #NehaBhasin #Lehren #30YearsOfLehren\n",
      "Top 3 Bollywood celebs and their up to the mark airp…\n",
      "RT @LehrenNetworks: #UrvashiRautela #RanveerSingh #NehaBhasin #Lehren #30YearsOfLehren\n",
      "Top 3 Bollywood celebs and their up to the mark airp…\n",
      "How amayyyyzzzinnng would it be to have these two beside you on a flight 🤩🤩 #AmeeshaPatel @ameesha_patel and… https://t.co/ugjz5eDMhb\n",
      "RT @LehrenNetworks: #UrvashiRautela #RanveerSingh #NehaBhasin #Lehren #30YearsOfLehren\n",
      "Top 3 Bollywood celebs and their up to the mark airp…\n",
      "RT @bollybubble: #RanveerSingh’s back in the city and is not afraid to repeat his airport style! VIEW PICS\n",
      "\n",
      "https://t.co/0jkH44edFH https:/…\n",
      "RT @bollybubble: #RanveerSingh’s back in the city and is not afraid to repeat his airport style! VIEW PICS\n",
      "\n",
      "https://t.co/0jkH44edFH https:/…\n",
      "RT @viralphoto: Some selfies are so well taken. Must a good camera phone #ameeshapatel #ranveersingh https://t.co/77eYuO43WL\n",
      "RT @LehrenNetworks: #UrvashiRautela #RanveerSingh #NehaBhasin #Lehren #30YearsOfLehren\n",
      "Top 3 Bollywood celebs and their up to the mark airp…\n",
      "RT @Popdiarieslive: .@RanveerOfficial is all smiles as he gets snapped at the airport last night as he returns from Delhi post receiving th…\n",
      "RT @Popdiarieslive: .@RanveerOfficial's charm is 24*7,  always on the go! 😎🤙\n",
      "#RanveerSingh snapped at Bastian last night https://t.co/zN78s…\n",
      "RT @Popdiarieslive: .@RanveerOfficial is all smiles as he gets snapped at the airport last night as he returns from Delhi post receiving th…\n",
      "RT @thestylenut: #AmeeshaPatel smiles ear to ear in this selfie with the energetic star, #RanveerSingh... https://t.co/ytNPerlPKT\n",
      "RT @Popdiarieslive: .@RanveerOfficial's charm is 24*7,  always on the go! 😎🤙\n",
      "#RanveerSingh snapped at Bastian last night https://t.co/zN78s…\n"
     ]
    }
   ],
   "source": [
    "# iterate through the results returned from the function\n",
    "for tweet in mytweets:\n",
    "    print(tweet.text)"
   ]
  },
  {
   "cell_type": "code",
   "execution_count": 8,
   "metadata": {
    "collapsed": false
   },
   "outputs": [],
   "source": [
    "# create a twitter stream listerner from the class provided by tweepy\n",
    "class MyStreamListener(tweepy.StreamListener):\n",
    "    def __init__(self,time_limit=60,count_limit = 10):\n",
    "        self.start_time = time.time()\n",
    "        self.count_limit = count_limit # restrict the number of tweets\n",
    "        self.time_limit = time_limit  # restrict the time of streaming\n",
    "        self.tweet_list = []\n",
    "        self.count = 0\n",
    "        self.output_file  = open('./logs.txt', 'w',encoding='utf-8') # open a csv file to save tweet logs\n",
    "    \n",
    "    def on_data(self, data):\n",
    "        if (self.count_limit is not None and self.count >= self.count_limit): # check the tweet count\n",
    "            self.output_file.close() # close the file\n",
    "            return False\n",
    "        elif  (time.time() - self.start_time) > self.time_limit: # check the time limit\n",
    "            self.output_file.close()\n",
    "            return False\n",
    "        else:        \n",
    "            self.count += 1\n",
    "            json_data = json.loads(data)\n",
    "            print(json_data)\n",
    "            user_name = json_data['user']['screen_name']\n",
    "#             if json_data['retweeted_status'] != None and json_data['retweeted_status']['extended_tweet']!= None:\n",
    "                \n",
    "#                 text = json_data['retweeted_status']['extended_tweet']['full_text']\n",
    "#             else:\n",
    "            text = json_data['text']\n",
    "            time_stamp = json_data['created_at']\n",
    "\n",
    "            self.tweet_list.append((user_name, text,time_stamp))\n",
    "\n",
    "            self.output_file.write(''+'Tweet Count:'+str(self.count) +'\\n'\n",
    "                                   +'User Name:'+ user_name + '\\n' \n",
    "                                   +'Tweet:'+text + '\\n'\n",
    "                                   +'Time Stamp:'+str(time_stamp) + '\\n'\n",
    "                                  +'===================================================< \\n') # write the log to the csv file\n",
    "\n",
    "            print(user_name,'==>',text,'<==',time_stamp,'\\n') \n",
    "            return True\n",
    "    \n",
    "    def on_error(self, status):\n",
    "        print(status)\n",
    "    \n",
    "    def on_timeout(self):\n",
    "        print('Timeout...')\n",
    "        return True\n",
    "    \n",
    "    def on_connect(self):\n",
    "        print('Streaming is ON...')\n",
    "    \n",
    "    def on_disconnect(self):\n",
    "        print('Streaming is disconnected...')\n",
    "    \n",
    "    def on_limit(self):\n",
    "        print('Limit is crossed...')"
   ]
  },
  {
   "cell_type": "code",
   "execution_count": 9,
   "metadata": {
    "collapsed": false
   },
   "outputs": [
    {
     "name": "stdout",
     "output_type": "stream",
     "text": [
      "Streaming is ON...\n",
      "{'created_at': 'Sat Apr 07 10:16:58 +0000 2018', 'id': 982562873594425345, 'id_str': '982562873594425345', 'text': '@SafetyPinDaily Oh no!\\nwell, no worries, tRump will probably  help them out, they are his voters after all!', 'display_text_range': [16, 107], 'source': '<a href=\"https://mobile.twitter.com\" rel=\"nofollow\">Twitter Lite</a>', 'truncated': False, 'in_reply_to_status_id': 982559369261969408, 'in_reply_to_status_id_str': '982559369261969408', 'in_reply_to_user_id': 449600949, 'in_reply_to_user_id_str': '449600949', 'in_reply_to_screen_name': 'SafetyPinDaily', 'user': {'id': 256923471, 'id_str': '256923471', 'name': '🇨🇦Isabelle🌈', 'screen_name': 'LeCorbeauBleu', 'location': 'Victoria BC, CANADA', 'url': None, 'description': 'HELPING THE RESISTANCE\\nONE TWEET AT A TIME\\n❤️Knowledge ❤️Sciences ❤️Arts ❤️Voyages ❤️ALL Life\\n🌈LGBTQ is my community🇨🇦🌎🌍🌏🇫🇷', 'translator_type': 'none', 'protected': False, 'verified': False, 'followers_count': 1125, 'friends_count': 791, 'listed_count': 9, 'favourites_count': 54528, 'statuses_count': 34149, 'created_at': 'Thu Feb 24 10:29:19 +0000 2011', 'utc_offset': -25200, 'time_zone': 'Pacific Time (US & Canada)', 'geo_enabled': True, 'lang': 'en', 'contributors_enabled': False, 'is_translator': False, 'profile_background_color': 'ACDED6', 'profile_background_image_url': 'http://pbs.twimg.com/profile_background_images/235913856/Lyle-Johnson-Sundogs_1298744519_med.jpg', 'profile_background_image_url_https': 'https://pbs.twimg.com/profile_background_images/235913856/Lyle-Johnson-Sundogs_1298744519_med.jpg', 'profile_background_tile': False, 'profile_link_color': '038543', 'profile_sidebar_border_color': 'EEEEEE', 'profile_sidebar_fill_color': 'F6F6F6', 'profile_text_color': '333333', 'profile_use_background_image': True, 'profile_image_url': 'http://pbs.twimg.com/profile_images/828216568249147396/y5ztKhuq_normal.jpg', 'profile_image_url_https': 'https://pbs.twimg.com/profile_images/828216568249147396/y5ztKhuq_normal.jpg', 'profile_banner_url': 'https://pbs.twimg.com/profile_banners/256923471/1489760285', 'default_profile': False, 'default_profile_image': False, 'following': None, 'follow_request_sent': None, 'notifications': None}, 'geo': None, 'coordinates': None, 'place': None, 'contributors': None, 'is_quote_status': False, 'quote_count': 0, 'reply_count': 0, 'retweet_count': 0, 'favorite_count': 0, 'entities': {'hashtags': [], 'urls': [], 'user_mentions': [{'screen_name': 'SafetyPinDaily', 'name': 'SafetyPin-Daily', 'id': 449600949, 'id_str': '449600949', 'indices': [0, 15]}], 'symbols': []}, 'favorited': False, 'retweeted': False, 'filter_level': 'low', 'lang': 'en', 'timestamp_ms': '1523096218857'}\n",
      "LeCorbeauBleu ==> @SafetyPinDaily Oh no!\n",
      "well, no worries, tRump will probably  help them out, they are his voters after all! <== Sat Apr 07 10:16:58 +0000 2018 \n",
      "\n",
      "{'created_at': 'Sat Apr 07 10:16:58 +0000 2018', 'id': 982562874005577730, 'id_str': '982562874005577730', 'text': 'RT @Dax_x98: #FBR party\\n\\nLIKE❤\\n\\nRT♻️\\n\\nFOLLOW ALL WHO RT🌊\\n\\n@realDonaldTrump @VP @mike_pence #TheResistance #Resistance #ImpeachTrump #NotMyP…', 'source': '<a href=\"http://twitter.com/download/android\" rel=\"nofollow\">Twitter for Android</a>', 'truncated': False, 'in_reply_to_status_id': None, 'in_reply_to_status_id_str': None, 'in_reply_to_user_id': None, 'in_reply_to_user_id_str': None, 'in_reply_to_screen_name': None, 'user': {'id': 874106117886005249, 'id_str': '874106117886005249', 'name': 'DΔX', 'screen_name': 'Dax_x98', 'location': 'Thomaston, GA', 'url': 'http://instagram.com/dax.98xx', 'description': \"18+My Dog Likes Me That's All That Matters\\n#TheResistance 💪| #LGBT 🏳️\\u200d🌈| #BlackLivesMatter | #WomensRights ♀️| #Atheist 💯| #FBR | #BlueWave🌊| #NeverAgain\", 'translator_type': 'none', 'protected': False, 'verified': False, 'followers_count': 22669, 'friends_count': 24743, 'listed_count': 79, 'favourites_count': 14407, 'statuses_count': 15617, 'created_at': 'Mon Jun 12 03:28:33 +0000 2017', 'utc_offset': None, 'time_zone': None, 'geo_enabled': True, 'lang': 'en', 'contributors_enabled': False, 'is_translator': False, 'profile_background_color': 'F5F8FA', 'profile_background_image_url': '', 'profile_background_image_url_https': '', 'profile_background_tile': False, 'profile_link_color': '1DA1F2', 'profile_sidebar_border_color': 'C0DEED', 'profile_sidebar_fill_color': 'DDEEF6', 'profile_text_color': '333333', 'profile_use_background_image': True, 'profile_image_url': 'http://pbs.twimg.com/profile_images/982165579451662337/OkAR_sFj_normal.jpg', 'profile_image_url_https': 'https://pbs.twimg.com/profile_images/982165579451662337/OkAR_sFj_normal.jpg', 'profile_banner_url': 'https://pbs.twimg.com/profile_banners/874106117886005249/1522835521', 'default_profile': True, 'default_profile_image': False, 'following': None, 'follow_request_sent': None, 'notifications': None}, 'geo': None, 'coordinates': None, 'place': None, 'contributors': None, 'retweeted_status': {'created_at': 'Fri Apr 06 05:46:46 +0000 2018', 'id': 982132487911497730, 'id_str': '982132487911497730', 'text': '#FBR party\\n\\nLIKE❤\\n\\nRT♻️\\n\\nFOLLOW ALL WHO RT🌊\\n\\n@realDonaldTrump @VP @mike_pence #TheResistance #Resistance… https://t.co/ZVKzDWCAwO', 'display_text_range': [0, 140], 'source': '<a href=\"http://twitter.com/download/android\" rel=\"nofollow\">Twitter for Android</a>', 'truncated': True, 'in_reply_to_status_id': None, 'in_reply_to_status_id_str': None, 'in_reply_to_user_id': None, 'in_reply_to_user_id_str': None, 'in_reply_to_screen_name': None, 'user': {'id': 874106117886005249, 'id_str': '874106117886005249', 'name': 'DΔX', 'screen_name': 'Dax_x98', 'location': 'Thomaston, GA', 'url': 'http://instagram.com/dax.98xx', 'description': \"18+My Dog Likes Me That's All That Matters\\n#TheResistance 💪| #LGBT 🏳️\\u200d🌈| #BlackLivesMatter | #WomensRights ♀️| #Atheist 💯| #FBR | #BlueWave🌊| #NeverAgain\", 'translator_type': 'none', 'protected': False, 'verified': False, 'followers_count': 22669, 'friends_count': 24743, 'listed_count': 79, 'favourites_count': 14407, 'statuses_count': 15616, 'created_at': 'Mon Jun 12 03:28:33 +0000 2017', 'utc_offset': None, 'time_zone': None, 'geo_enabled': True, 'lang': 'en', 'contributors_enabled': False, 'is_translator': False, 'profile_background_color': 'F5F8FA', 'profile_background_image_url': '', 'profile_background_image_url_https': '', 'profile_background_tile': False, 'profile_link_color': '1DA1F2', 'profile_sidebar_border_color': 'C0DEED', 'profile_sidebar_fill_color': 'DDEEF6', 'profile_text_color': '333333', 'profile_use_background_image': True, 'profile_image_url': 'http://pbs.twimg.com/profile_images/982165579451662337/OkAR_sFj_normal.jpg', 'profile_image_url_https': 'https://pbs.twimg.com/profile_images/982165579451662337/OkAR_sFj_normal.jpg', 'profile_banner_url': 'https://pbs.twimg.com/profile_banners/874106117886005249/1522835521', 'default_profile': True, 'default_profile_image': False, 'following': None, 'follow_request_sent': None, 'notifications': None}, 'geo': None, 'coordinates': None, 'place': None, 'contributors': None, 'is_quote_status': False, 'extended_tweet': {'full_text': '#FBR party\\n\\nLIKE❤\\n\\nRT♻️\\n\\nFOLLOW ALL WHO RT🌊\\n\\n@realDonaldTrump @VP @mike_pence #TheResistance #Resistance #ImpeachTrump #NotMyPresident #Resist #Trump #DemForce #BlueWave #BlueTsunami #FBR #LGBT #Equality #StrongerTogether #FollowBackResistance #BlackLivesMatter #WomensRights https://t.co/P7hzxywrbV', 'display_text_range': [0, 275], 'entities': {'hashtags': [{'text': 'FBR', 'indices': [0, 4]}, {'text': 'TheResistance', 'indices': [78, 92]}, {'text': 'Resistance', 'indices': [93, 104]}, {'text': 'ImpeachTrump', 'indices': [105, 118]}, {'text': 'NotMyPresident', 'indices': [119, 134]}, {'text': 'Resist', 'indices': [135, 142]}, {'text': 'Trump', 'indices': [143, 149]}, {'text': 'DemForce', 'indices': [150, 159]}, {'text': 'BlueWave', 'indices': [160, 169]}, {'text': 'BlueTsunami', 'indices': [170, 182]}, {'text': 'FBR', 'indices': [183, 187]}, {'text': 'LGBT', 'indices': [188, 193]}, {'text': 'Equality', 'indices': [194, 203]}, {'text': 'StrongerTogether', 'indices': [204, 221]}, {'text': 'FollowBackResistance', 'indices': [222, 243]}, {'text': 'BlackLivesMatter', 'indices': [244, 261]}, {'text': 'WomensRights', 'indices': [262, 275]}], 'urls': [], 'user_mentions': [{'screen_name': 'realDonaldTrump', 'name': 'Donald J. Trump', 'id': 25073877, 'id_str': '25073877', 'indices': [45, 61]}, {'screen_name': 'VP', 'name': 'Vice President Mike Pence', 'id': 818910970567344128, 'id_str': '818910970567344128', 'indices': [62, 65]}, {'screen_name': 'mike_pence', 'name': 'Mike Pence', 'id': 22203756, 'id_str': '22203756', 'indices': [66, 77]}], 'symbols': [], 'media': [{'id': 982132475047567360, 'id_str': '982132475047567360', 'indices': [276, 299], 'media_url': 'http://pbs.twimg.com/media/DaE8SFGV4AAzmZU.jpg', 'media_url_https': 'https://pbs.twimg.com/media/DaE8SFGV4AAzmZU.jpg', 'url': 'https://t.co/P7hzxywrbV', 'display_url': 'pic.twitter.com/P7hzxywrbV', 'expanded_url': 'https://twitter.com/Dax_x98/status/982132487911497730/photo/1', 'type': 'photo', 'sizes': {'thumb': {'w': 150, 'h': 150, 'resize': 'crop'}, 'medium': {'w': 1200, 'h': 811, 'resize': 'fit'}, 'large': {'w': 1440, 'h': 973, 'resize': 'fit'}, 'small': {'w': 680, 'h': 459, 'resize': 'fit'}}}]}, 'extended_entities': {'media': [{'id': 982132475047567360, 'id_str': '982132475047567360', 'indices': [276, 299], 'media_url': 'http://pbs.twimg.com/media/DaE8SFGV4AAzmZU.jpg', 'media_url_https': 'https://pbs.twimg.com/media/DaE8SFGV4AAzmZU.jpg', 'url': 'https://t.co/P7hzxywrbV', 'display_url': 'pic.twitter.com/P7hzxywrbV', 'expanded_url': 'https://twitter.com/Dax_x98/status/982132487911497730/photo/1', 'type': 'photo', 'sizes': {'thumb': {'w': 150, 'h': 150, 'resize': 'crop'}, 'medium': {'w': 1200, 'h': 811, 'resize': 'fit'}, 'large': {'w': 1440, 'h': 973, 'resize': 'fit'}, 'small': {'w': 680, 'h': 459, 'resize': 'fit'}}}]}}, 'quote_count': 10, 'reply_count': 36, 'retweet_count': 264, 'favorite_count': 372, 'entities': {'hashtags': [{'text': 'FBR', 'indices': [0, 4]}, {'text': 'TheResistance', 'indices': [78, 92]}, {'text': 'Resistance', 'indices': [93, 104]}], 'urls': [{'url': 'https://t.co/ZVKzDWCAwO', 'expanded_url': 'https://twitter.com/i/web/status/982132487911497730', 'display_url': 'twitter.com/i/web/status/9…', 'indices': [106, 129]}], 'user_mentions': [{'screen_name': 'realDonaldTrump', 'name': 'Donald J. Trump', 'id': 25073877, 'id_str': '25073877', 'indices': [45, 61]}, {'screen_name': 'VP', 'name': 'Vice President Mike Pence', 'id': 818910970567344128, 'id_str': '818910970567344128', 'indices': [62, 65]}, {'screen_name': 'mike_pence', 'name': 'Mike Pence', 'id': 22203756, 'id_str': '22203756', 'indices': [66, 77]}], 'symbols': []}, 'favorited': False, 'retweeted': False, 'possibly_sensitive': False, 'filter_level': 'low', 'lang': 'en'}, 'is_quote_status': False, 'quote_count': 0, 'reply_count': 0, 'retweet_count': 0, 'favorite_count': 0, 'entities': {'hashtags': [{'text': 'FBR', 'indices': [13, 17]}, {'text': 'TheResistance', 'indices': [91, 105]}, {'text': 'Resistance', 'indices': [106, 117]}, {'text': 'ImpeachTrump', 'indices': [118, 131]}], 'urls': [], 'user_mentions': [{'screen_name': 'Dax_x98', 'name': 'DΔX', 'id': 874106117886005249, 'id_str': '874106117886005249', 'indices': [3, 11]}, {'screen_name': 'realDonaldTrump', 'name': 'Donald J. Trump', 'id': 25073877, 'id_str': '25073877', 'indices': [58, 74]}, {'screen_name': 'VP', 'name': 'Vice President Mike Pence', 'id': 818910970567344128, 'id_str': '818910970567344128', 'indices': [75, 78]}, {'screen_name': 'mike_pence', 'name': 'Mike Pence', 'id': 22203756, 'id_str': '22203756', 'indices': [79, 90]}], 'symbols': []}, 'favorited': False, 'retweeted': False, 'filter_level': 'low', 'lang': 'en', 'timestamp_ms': '1523096218955'}\n",
      "Dax_x98 ==> RT @Dax_x98: #FBR party\n",
      "\n",
      "LIKE❤\n",
      "\n",
      "RT♻️\n",
      "\n",
      "FOLLOW ALL WHO RT🌊\n",
      "\n",
      "@realDonaldTrump @VP @mike_pence #TheResistance #Resistance #ImpeachTrump #NotMyP… <== Sat Apr 07 10:16:58 +0000 2018 \n",
      "\n",
      "{'created_at': 'Sat Apr 07 10:16:59 +0000 2018', 'id': 982562874357825541, 'id_str': '982562874357825541', 'text': 'The Memo: Trump’s risky gambit on trade roils markets https://t.co/h1Hn2S0eM6', 'source': '<a href=\"http://twitter.com\" rel=\"nofollow\">Twitter Web Client</a>', 'truncated': False, 'in_reply_to_status_id': None, 'in_reply_to_status_id_str': None, 'in_reply_to_user_id': None, 'in_reply_to_user_id_str': None, 'in_reply_to_screen_name': None, 'user': {'id': 824075448950722560, 'id_str': '824075448950722560', 'name': 'ℜ𝔬𝔤𝔲𝔢 Ｓｃｉｅｎｔｉｓｔ 𝔑𝔦𝔤𝔥𝔱𝔴𝔞𝔱𝔠𝔥', 'screen_name': 'RSNightwatch', 'location': 'At the edge of the rainforest, on a rock, in the middle of the largest ecological desert in the world, USA', 'url': 'https://www.facebook.com/RogueSN', 'description': 'Just a figment of your imagination ... with a background in Biology, Psychology, and Law.          #RSNIghtwatch team leader #LegioNona #TheResistance   🌖🌑🌔', 'translator_type': 'none', 'protected': False, 'verified': False, 'followers_count': 1970, 'friends_count': 3055, 'listed_count': 37, 'favourites_count': 15437, 'statuses_count': 32105, 'created_at': 'Wed Jan 25 02:04:32 +0000 2017', 'utc_offset': -36000, 'time_zone': 'Hawaii', 'geo_enabled': False, 'lang': 'en', 'contributors_enabled': False, 'is_translator': False, 'profile_background_color': '000000', 'profile_background_image_url': 'http://abs.twimg.com/images/themes/theme1/bg.png', 'profile_background_image_url_https': 'https://abs.twimg.com/images/themes/theme1/bg.png', 'profile_background_tile': False, 'profile_link_color': '8A2BE2', 'profile_sidebar_border_color': '000000', 'profile_sidebar_fill_color': '000000', 'profile_text_color': '000000', 'profile_use_background_image': False, 'profile_image_url': 'http://pbs.twimg.com/profile_images/975272076528386049/w9W6w-YS_normal.jpg', 'profile_image_url_https': 'https://pbs.twimg.com/profile_images/975272076528386049/w9W6w-YS_normal.jpg', 'profile_banner_url': 'https://pbs.twimg.com/profile_banners/824075448950722560/1517993662', 'default_profile': False, 'default_profile_image': False, 'following': None, 'follow_request_sent': None, 'notifications': None}, 'geo': None, 'coordinates': None, 'place': None, 'contributors': None, 'is_quote_status': False, 'quote_count': 0, 'reply_count': 0, 'retweet_count': 0, 'favorite_count': 0, 'entities': {'hashtags': [], 'urls': [{'url': 'https://t.co/h1Hn2S0eM6', 'expanded_url': 'http://thehill.com/policy/finance/382036-the-memo-trumps-risky-gambit-on-trade-roils-markets#.WsialgOPZ7M.twitter', 'display_url': 'thehill.com/policy/finance…', 'indices': [54, 77]}], 'user_mentions': [], 'symbols': []}, 'favorited': False, 'retweeted': False, 'possibly_sensitive': False, 'filter_level': 'low', 'lang': 'en', 'timestamp_ms': '1523096219039'}\n",
      "RSNightwatch ==> The Memo: Trump’s risky gambit on trade roils markets https://t.co/h1Hn2S0eM6 <== Sat Apr 07 10:16:59 +0000 2018 \n",
      "\n",
      "{'created_at': 'Sat Apr 07 10:16:59 +0000 2018', 'id': 982562874265661440, 'id_str': '982562874265661440', 'text': 'Will We Stop Trump Before It’s Too Late? https://t.co/8j1Cpq4ItU - We who?? Trump is president. YOU are not! Where… https://t.co/vlXdi1Zkbm', 'source': '<a href=\"http://twitter.com\" rel=\"nofollow\">Twitter Web Client</a>', 'truncated': True, 'in_reply_to_status_id': None, 'in_reply_to_status_id_str': None, 'in_reply_to_user_id': None, 'in_reply_to_user_id_str': None, 'in_reply_to_screen_name': None, 'user': {'id': 74311481, 'id_str': '74311481', 'name': 'Pat C in Central FL', 'screen_name': 'BeachCity55', 'location': 'FL', 'url': None, 'description': 'Proud republican. Happily married to USAF Viet Nam Veteran. Animal lover. Trump Train 🚂 🚂 🚂 Never tired of winning Mr. President! MAGA 🇺🇸🇺🇸🇺🇸🇺🇸', 'translator_type': 'none', 'protected': False, 'verified': False, 'followers_count': 6476, 'friends_count': 7054, 'listed_count': 94, 'favourites_count': 29595, 'statuses_count': 97966, 'created_at': 'Tue Sep 15 00:16:47 +0000 2009', 'utc_offset': -14400, 'time_zone': 'Eastern Time (US & Canada)', 'geo_enabled': False, 'lang': 'en', 'contributors_enabled': False, 'is_translator': False, 'profile_background_color': '000000', 'profile_background_image_url': 'http://abs.twimg.com/images/themes/theme13/bg.gif', 'profile_background_image_url_https': 'https://abs.twimg.com/images/themes/theme13/bg.gif', 'profile_background_tile': False, 'profile_link_color': '19CF86', 'profile_sidebar_border_color': '000000', 'profile_sidebar_fill_color': '000000', 'profile_text_color': '000000', 'profile_use_background_image': False, 'profile_image_url': 'http://pbs.twimg.com/profile_images/831461930242080768/5riYXltu_normal.jpg', 'profile_image_url_https': 'https://pbs.twimg.com/profile_images/831461930242080768/5riYXltu_normal.jpg', 'profile_banner_url': 'https://pbs.twimg.com/profile_banners/74311481/1507472795', 'default_profile': False, 'default_profile_image': False, 'following': None, 'follow_request_sent': None, 'notifications': None}, 'geo': None, 'coordinates': None, 'place': None, 'contributors': None, 'is_quote_status': False, 'extended_tweet': {'full_text': \"Will We Stop Trump Before It’s Too Late? https://t.co/8j1Cpq4ItU - We who?? Trump is president. YOU are not! Where was this anger during the HORRID 8 years of HORRID Obama? Now that's the one who should have been stopped.\", 'display_text_range': [0, 221], 'entities': {'hashtags': [], 'urls': [{'url': 'https://t.co/8j1Cpq4ItU', 'expanded_url': 'https://nyti.ms/2Hbfa0t', 'display_url': 'nyti.ms/2Hbfa0t', 'indices': [41, 64]}], 'user_mentions': [], 'symbols': []}}, 'quote_count': 0, 'reply_count': 0, 'retweet_count': 0, 'favorite_count': 0, 'entities': {'hashtags': [], 'urls': [{'url': 'https://t.co/8j1Cpq4ItU', 'expanded_url': 'https://nyti.ms/2Hbfa0t', 'display_url': 'nyti.ms/2Hbfa0t', 'indices': [41, 64]}, {'url': 'https://t.co/vlXdi1Zkbm', 'expanded_url': 'https://twitter.com/i/web/status/982562874265661440', 'display_url': 'twitter.com/i/web/status/9…', 'indices': [116, 139]}], 'user_mentions': [], 'symbols': []}, 'favorited': False, 'retweeted': False, 'possibly_sensitive': False, 'filter_level': 'low', 'lang': 'en', 'timestamp_ms': '1523096219017'}\n",
      "BeachCity55 ==> Will We Stop Trump Before It’s Too Late? https://t.co/8j1Cpq4ItU - We who?? Trump is president. YOU are not! Where… https://t.co/vlXdi1Zkbm <== Sat Apr 07 10:16:59 +0000 2018 \n",
      "\n",
      "{'created_at': 'Sat Apr 07 10:16:59 +0000 2018', 'id': 982562874521305088, 'id_str': '982562874521305088', 'text': \"I'm w Jimmy!!!!! https://t.co/fmJq3Jij3Z\", 'display_text_range': [0, 16], 'source': '<a href=\"http://twitter.com/download/android\" rel=\"nofollow\">Twitter for Android</a>', 'truncated': False, 'in_reply_to_status_id': None, 'in_reply_to_status_id_str': None, 'in_reply_to_user_id': None, 'in_reply_to_user_id_str': None, 'in_reply_to_screen_name': None, 'user': {'id': 125635119, 'id_str': '125635119', 'name': 'Ann Lutsky', 'screen_name': 'ann10551955', 'location': None, 'url': None, 'description': None, 'translator_type': 'none', 'protected': False, 'verified': False, 'followers_count': 341, 'friends_count': 878, 'listed_count': 4, 'favourites_count': 33247, 'statuses_count': 25292, 'created_at': 'Tue Mar 23 11:53:16 +0000 2010', 'utc_offset': -25200, 'time_zone': 'Pacific Time (US & Canada)', 'geo_enabled': True, 'lang': 'en', 'contributors_enabled': False, 'is_translator': False, 'profile_background_color': 'C0DEED', 'profile_background_image_url': 'http://abs.twimg.com/images/themes/theme1/bg.png', 'profile_background_image_url_https': 'https://abs.twimg.com/images/themes/theme1/bg.png', 'profile_background_tile': False, 'profile_link_color': '1DA1F2', 'profile_sidebar_border_color': 'C0DEED', 'profile_sidebar_fill_color': 'DDEEF6', 'profile_text_color': '333333', 'profile_use_background_image': True, 'profile_image_url': 'http://abs.twimg.com/sticky/default_profile_images/default_profile_normal.png', 'profile_image_url_https': 'https://abs.twimg.com/sticky/default_profile_images/default_profile_normal.png', 'default_profile': True, 'default_profile_image': False, 'following': None, 'follow_request_sent': None, 'notifications': None}, 'geo': None, 'coordinates': None, 'place': None, 'contributors': None, 'quoted_status_id': 982468397010161665, 'quoted_status_id_str': '982468397010161665', 'quoted_status': {'created_at': 'Sat Apr 07 04:01:33 +0000 2018', 'id': 982468397010161665, 'id_str': '982468397010161665', 'text': 'Trump: “I just start kissing them...grab ‘em by the pussy...”, Daniels, MacDougal, Zervos, Crooks, etc.\\n\\nHannity: *… https://t.co/n0LLVw8EGU', 'source': '<a href=\"http://twitter.com/#!/download/ipad\" rel=\"nofollow\">Twitter for iPad</a>', 'truncated': True, 'in_reply_to_status_id': None, 'in_reply_to_status_id_str': None, 'in_reply_to_user_id': None, 'in_reply_to_user_id_str': None, 'in_reply_to_screen_name': None, 'user': {'id': 824252130898931714, 'id_str': '824252130898931714', 'name': 'Nai Mei (姚耐梅)👩🏻\\u200d⚕️', 'screen_name': 'naimeiyao', 'location': 'North of the Wall', 'url': 'http://www.crazyasiandoctormom.com', 'description': 'First of Her Name, Queen of the Chu Dominion, Mother of Savages, Keeper of the Chinchilla, Reader of Novels, Khaleesi of the Great Knitting Needlehood #Resist', 'translator_type': 'none', 'protected': False, 'verified': False, 'followers_count': 1592, 'friends_count': 175, 'listed_count': 6, 'favourites_count': 42400, 'statuses_count': 11840, 'created_at': 'Wed Jan 25 13:46:36 +0000 2017', 'utc_offset': None, 'time_zone': None, 'geo_enabled': False, 'lang': 'en', 'contributors_enabled': False, 'is_translator': False, 'profile_background_color': '000000', 'profile_background_image_url': 'http://abs.twimg.com/images/themes/theme1/bg.png', 'profile_background_image_url_https': 'https://abs.twimg.com/images/themes/theme1/bg.png', 'profile_background_tile': False, 'profile_link_color': '981CEB', 'profile_sidebar_border_color': '000000', 'profile_sidebar_fill_color': '000000', 'profile_text_color': '000000', 'profile_use_background_image': False, 'profile_image_url': 'http://pbs.twimg.com/profile_images/968629364001787904/VOoCA-J4_normal.jpg', 'profile_image_url_https': 'https://pbs.twimg.com/profile_images/968629364001787904/VOoCA-J4_normal.jpg', 'profile_banner_url': 'https://pbs.twimg.com/profile_banners/824252130898931714/1518751837', 'default_profile': False, 'default_profile_image': False, 'following': None, 'follow_request_sent': None, 'notifications': None}, 'geo': None, 'coordinates': None, 'place': None, 'contributors': None, 'is_quote_status': False, 'extended_tweet': {'full_text': 'Trump: “I just start kissing them...grab ‘em by the pussy...”, Daniels, MacDougal, Zervos, Crooks, etc.\\n\\nHannity: * crickets *\\n\\nKimmel: Melania’s accent—\\n\\nHannity: How DARE you be mean to the First Lady?\\nhttps://t.co/XT5CMNNzBN', 'display_text_range': [0, 227], 'entities': {'hashtags': [], 'urls': [{'url': 'https://t.co/XT5CMNNzBN', 'expanded_url': 'http://thehill.com/homenews/media/381940-hannity-kimmel-feud-over-melania-trump-joke', 'display_url': 'thehill.com/homenews/media…', 'indices': [204, 227]}], 'user_mentions': [], 'symbols': []}}, 'quote_count': 0, 'reply_count': 0, 'retweet_count': 2, 'favorite_count': 17, 'entities': {'hashtags': [], 'urls': [{'url': 'https://t.co/n0LLVw8EGU', 'expanded_url': 'https://twitter.com/i/web/status/982468397010161665', 'display_url': 'twitter.com/i/web/status/9…', 'indices': [117, 140]}], 'user_mentions': [], 'symbols': []}, 'favorited': False, 'retweeted': False, 'possibly_sensitive': False, 'filter_level': 'low', 'lang': 'en'}, 'is_quote_status': True, 'quote_count': 0, 'reply_count': 0, 'retweet_count': 0, 'favorite_count': 0, 'entities': {'hashtags': [], 'urls': [{'url': 'https://t.co/fmJq3Jij3Z', 'expanded_url': 'https://twitter.com/naimeiyao/status/982468397010161665', 'display_url': 'twitter.com/naimeiyao/stat…', 'indices': [17, 40]}], 'user_mentions': [], 'symbols': []}, 'favorited': False, 'retweeted': False, 'possibly_sensitive': False, 'filter_level': 'low', 'lang': 'en', 'timestamp_ms': '1523096219078'}\n",
      "ann10551955 ==> I'm w Jimmy!!!!! https://t.co/fmJq3Jij3Z <== Sat Apr 07 10:16:59 +0000 2018 \n",
      "\n",
      "{'created_at': 'Sat Apr 07 10:16:59 +0000 2018', 'id': 982562875771408384, 'id_str': '982562875771408384', 'text': \"RT @ajsgmajc: This is the most ridiculous and laughable thing I've read this....week. https://t.co/SM7UXYPpqW\", 'source': '<a href=\"http://twitter.com/download/android\" rel=\"nofollow\">Twitter for Android</a>', 'truncated': False, 'in_reply_to_status_id': None, 'in_reply_to_status_id_str': None, 'in_reply_to_user_id': None, 'in_reply_to_user_id_str': None, 'in_reply_to_screen_name': None, 'user': {'id': 956382466130038784, 'id_str': '956382466130038784', 'name': 'the ranting panda', 'screen_name': 'rantingpanda1', 'location': 'United States', 'url': None, 'description': \"I am a bit of a wanderer. I don't like settling much and LOVE new experiences and people. I can be a home body when I've had enough of the world. #bluewave #FBR\", 'translator_type': 'none', 'protected': False, 'verified': False, 'followers_count': 2688, 'friends_count': 2691, 'listed_count': 0, 'favourites_count': 2945, 'statuses_count': 2475, 'created_at': 'Thu Jan 25 04:25:23 +0000 2018', 'utc_offset': None, 'time_zone': None, 'geo_enabled': False, 'lang': 'en', 'contributors_enabled': False, 'is_translator': False, 'profile_background_color': 'F5F8FA', 'profile_background_image_url': '', 'profile_background_image_url_https': '', 'profile_background_tile': False, 'profile_link_color': '1DA1F2', 'profile_sidebar_border_color': 'C0DEED', 'profile_sidebar_fill_color': 'DDEEF6', 'profile_text_color': '333333', 'profile_use_background_image': True, 'profile_image_url': 'http://pbs.twimg.com/profile_images/979097218069286917/S2SZ3sDp_normal.jpg', 'profile_image_url_https': 'https://pbs.twimg.com/profile_images/979097218069286917/S2SZ3sDp_normal.jpg', 'profile_banner_url': 'https://pbs.twimg.com/profile_banners/956382466130038784/1519827477', 'default_profile': True, 'default_profile_image': False, 'following': None, 'follow_request_sent': None, 'notifications': None}, 'geo': None, 'coordinates': None, 'place': None, 'contributors': None, 'retweeted_status': {'created_at': 'Sat Apr 07 01:44:28 +0000 2018', 'id': 982433897211420673, 'id_str': '982433897211420673', 'text': \"This is the most ridiculous and laughable thing I've read this....week. https://t.co/SM7UXYPpqW\", 'source': '<a href=\"http://twitter.com/download/android\" rel=\"nofollow\">Twitter for Android</a>', 'truncated': False, 'in_reply_to_status_id': None, 'in_reply_to_status_id_str': None, 'in_reply_to_user_id': None, 'in_reply_to_user_id_str': None, 'in_reply_to_screen_name': None, 'user': {'id': 49518858, 'id_str': '49518858', 'name': 'ajsgma❄🌊', 'screen_name': 'ajsgmajc', 'location': 'KC MO', 'url': None, 'description': 'Love my role as mom and gma. Trump disliker, politics follower, living blue in a red state, #unionstrong#TheResistance #FBR#IAmTheResistance', 'translator_type': 'none', 'protected': False, 'verified': False, 'followers_count': 5223, 'friends_count': 4891, 'listed_count': 5, 'favourites_count': 13572, 'statuses_count': 6137, 'created_at': 'Mon Jun 22 03:10:43 +0000 2009', 'utc_offset': None, 'time_zone': None, 'geo_enabled': False, 'lang': 'en', 'contributors_enabled': False, 'is_translator': False, 'profile_background_color': 'C0DEED', 'profile_background_image_url': 'http://abs.twimg.com/images/themes/theme1/bg.png', 'profile_background_image_url_https': 'https://abs.twimg.com/images/themes/theme1/bg.png', 'profile_background_tile': False, 'profile_link_color': '1DA1F2', 'profile_sidebar_border_color': 'C0DEED', 'profile_sidebar_fill_color': 'DDEEF6', 'profile_text_color': '333333', 'profile_use_background_image': True, 'profile_image_url': 'http://pbs.twimg.com/profile_images/978450217501691909/gsHQhNa__normal.jpg', 'profile_image_url_https': 'https://pbs.twimg.com/profile_images/978450217501691909/gsHQhNa__normal.jpg', 'profile_banner_url': 'https://pbs.twimg.com/profile_banners/49518858/1510270877', 'default_profile': True, 'default_profile_image': False, 'following': None, 'follow_request_sent': None, 'notifications': None}, 'geo': None, 'coordinates': None, 'place': None, 'contributors': None, 'is_quote_status': False, 'quote_count': 1, 'reply_count': 6, 'retweet_count': 3, 'favorite_count': 14, 'entities': {'hashtags': [], 'urls': [{'url': 'https://t.co/SM7UXYPpqW', 'expanded_url': 'http://babylonbee.com/news/trump-merely-sharing-gospel-porn-star-explains-jim-bakker/', 'display_url': 'babylonbee.com/news/trump-mer…', 'indices': [72, 95]}], 'user_mentions': [], 'symbols': []}, 'favorited': False, 'retweeted': False, 'possibly_sensitive': False, 'filter_level': 'low', 'lang': 'en'}, 'is_quote_status': False, 'quote_count': 0, 'reply_count': 0, 'retweet_count': 0, 'favorite_count': 0, 'entities': {'hashtags': [], 'urls': [{'url': 'https://t.co/SM7UXYPpqW', 'expanded_url': 'http://babylonbee.com/news/trump-merely-sharing-gospel-porn-star-explains-jim-bakker/', 'display_url': 'babylonbee.com/news/trump-mer…', 'indices': [86, 109]}], 'user_mentions': [{'screen_name': 'ajsgmajc', 'name': 'ajsgma❄🌊', 'id': 49518858, 'id_str': '49518858', 'indices': [3, 12]}], 'symbols': []}, 'favorited': False, 'retweeted': False, 'possibly_sensitive': False, 'filter_level': 'low', 'lang': 'en', 'timestamp_ms': '1523096219376'}\n",
      "rantingpanda1 ==> RT @ajsgmajc: This is the most ridiculous and laughable thing I've read this....week. https://t.co/SM7UXYPpqW <== Sat Apr 07 10:16:59 +0000 2018 \n",
      "\n",
      "{'created_at': 'Sat Apr 07 10:16:59 +0000 2018', 'id': 982562875930808320, 'id_str': '982562875930808320', 'text': \"RT @JohnBrennan: I served 6 Presidents, 3 Rs &amp; 3Ds. I directly supported Clinton, Bush 43, and Obama. While I didn't agree with all their p…\", 'source': '<a href=\"http://twitter.com/download/iphone\" rel=\"nofollow\">Twitter for iPhone</a>', 'truncated': False, 'in_reply_to_status_id': None, 'in_reply_to_status_id_str': None, 'in_reply_to_user_id': None, 'in_reply_to_user_id_str': None, 'in_reply_to_screen_name': None, 'user': {'id': 118543247, 'id_str': '118543247', 'name': 'Carolyn Topol', 'screen_name': 'CarolynTopol', 'location': 'Connecticut', 'url': 'http://www.carolynlevinetopol.com', 'description': 'Author LGBT novels; Publishers-Liquid Silver Books, Dreamspinner Press / Harmony Ink; Soaps, Mets, Running, Disney; Entertainment Blog: https://t.co/BxbVcBZsfc', 'translator_type': 'none', 'protected': False, 'verified': False, 'followers_count': 4661, 'friends_count': 4942, 'listed_count': 105, 'favourites_count': 148594, 'statuses_count': 79736, 'created_at': 'Mon Mar 01 01:06:51 +0000 2010', 'utc_offset': None, 'time_zone': None, 'geo_enabled': True, 'lang': 'en', 'contributors_enabled': False, 'is_translator': False, 'profile_background_color': '000000', 'profile_background_image_url': 'http://abs.twimg.com/images/themes/theme1/bg.png', 'profile_background_image_url_https': 'https://abs.twimg.com/images/themes/theme1/bg.png', 'profile_background_tile': False, 'profile_link_color': '9266CC', 'profile_sidebar_border_color': '000000', 'profile_sidebar_fill_color': '000000', 'profile_text_color': '000000', 'profile_use_background_image': False, 'profile_image_url': 'http://pbs.twimg.com/profile_images/630377413512462338/56Oai5Nu_normal.jpg', 'profile_image_url_https': 'https://pbs.twimg.com/profile_images/630377413512462338/56Oai5Nu_normal.jpg', 'profile_banner_url': 'https://pbs.twimg.com/profile_banners/118543247/1435930755', 'default_profile': False, 'default_profile_image': False, 'following': None, 'follow_request_sent': None, 'notifications': None}, 'geo': None, 'coordinates': None, 'place': None, 'contributors': None, 'retweeted_status': {'created_at': 'Thu Apr 05 03:47:54 +0000 2018', 'id': 981740185468702720, 'id_str': '981740185468702720', 'text': \"I served 6 Presidents, 3 Rs &amp; 3Ds. I directly supported Clinton, Bush 43, and Obama. While I didn't agree with all… https://t.co/hTTiCbA1O5\", 'display_text_range': [0, 140], 'source': '<a href=\"http://twitter.com/download/iphone\" rel=\"nofollow\">Twitter for iPhone</a>', 'truncated': True, 'in_reply_to_status_id': None, 'in_reply_to_status_id_str': None, 'in_reply_to_user_id': None, 'in_reply_to_user_id_str': None, 'in_reply_to_screen_name': None, 'user': {'id': 910492003359760384, 'id_str': '910492003359760384', 'name': 'John O. Brennan', 'screen_name': 'JohnBrennan', 'location': None, 'url': None, 'description': 'Former CIA Director (2013-17). Nonpartisan American who is very concerned about our collective future.', 'translator_type': 'none', 'protected': False, 'verified': True, 'followers_count': 208286, 'friends_count': 28, 'listed_count': 1229, 'favourites_count': 0, 'statuses_count': 22, 'created_at': 'Wed Sep 20 13:13:04 +0000 2017', 'utc_offset': None, 'time_zone': None, 'geo_enabled': False, 'lang': 'en', 'contributors_enabled': False, 'is_translator': False, 'profile_background_color': 'F5F8FA', 'profile_background_image_url': '', 'profile_background_image_url_https': '', 'profile_background_tile': False, 'profile_link_color': '1DA1F2', 'profile_sidebar_border_color': 'C0DEED', 'profile_sidebar_fill_color': 'DDEEF6', 'profile_text_color': '333333', 'profile_use_background_image': True, 'profile_image_url': 'http://pbs.twimg.com/profile_images/943947333645099014/hxbD0MyG_normal.jpg', 'profile_image_url_https': 'https://pbs.twimg.com/profile_images/943947333645099014/hxbD0MyG_normal.jpg', 'profile_banner_url': 'https://pbs.twimg.com/profile_banners/910492003359760384/1513889558', 'default_profile': True, 'default_profile_image': False, 'following': None, 'follow_request_sent': None, 'notifications': None}, 'geo': None, 'coordinates': None, 'place': None, 'contributors': None, 'quoted_status_id': 981669823221559302, 'quoted_status_id_str': '981669823221559302', 'quoted_status': {'created_at': 'Wed Apr 04 23:08:19 +0000 2018', 'id': 981669823221559302, 'id_str': '981669823221559302', 'text': '“Still Rising: Rasmussen Poll Shows Donald Trump Approval Ratings Now at 51 Percent” https://t.co/q80PaE0gQo', 'source': '<a href=\"http://twitter.com/download/iphone\" rel=\"nofollow\">Twitter for iPhone</a>', 'truncated': False, 'in_reply_to_status_id': None, 'in_reply_to_status_id_str': None, 'in_reply_to_user_id': None, 'in_reply_to_user_id_str': None, 'in_reply_to_screen_name': None, 'user': {'id': 25073877, 'id_str': '25073877', 'name': 'Donald J. Trump', 'screen_name': 'realDonaldTrump', 'location': 'Washington, DC', 'url': 'http://www.Instagram.com/realDonaldTrump', 'description': '45th President of the United States of America🇺🇸', 'translator_type': 'regular', 'protected': False, 'verified': True, 'followers_count': 50041952, 'friends_count': 45, 'listed_count': 85801, 'favourites_count': 24, 'statuses_count': 37247, 'created_at': 'Wed Mar 18 13:46:38 +0000 2009', 'utc_offset': -14400, 'time_zone': 'Eastern Time (US & Canada)', 'geo_enabled': True, 'lang': 'en', 'contributors_enabled': False, 'is_translator': False, 'profile_background_color': '6D5C18', 'profile_background_image_url': 'http://pbs.twimg.com/profile_background_images/530021613/trump_scotland__43_of_70_cc.jpg', 'profile_background_image_url_https': 'https://pbs.twimg.com/profile_background_images/530021613/trump_scotland__43_of_70_cc.jpg', 'profile_background_tile': True, 'profile_link_color': '1B95E0', 'profile_sidebar_border_color': 'BDDCAD', 'profile_sidebar_fill_color': 'C5CEC0', 'profile_text_color': '333333', 'profile_use_background_image': True, 'profile_image_url': 'http://pbs.twimg.com/profile_images/874276197357596672/kUuht00m_normal.jpg', 'profile_image_url_https': 'https://pbs.twimg.com/profile_images/874276197357596672/kUuht00m_normal.jpg', 'profile_banner_url': 'https://pbs.twimg.com/profile_banners/25073877/1521874230', 'default_profile': False, 'default_profile_image': False, 'following': None, 'follow_request_sent': None, 'notifications': None}, 'geo': None, 'coordinates': None, 'place': None, 'contributors': None, 'is_quote_status': False, 'quote_count': 3782, 'reply_count': 35715, 'retweet_count': 22715, 'favorite_count': 93931, 'entities': {'hashtags': [], 'urls': [{'url': 'https://t.co/q80PaE0gQo', 'expanded_url': 'http://www.breitbart.com/big-government/2018/04/04/still-rising-rasmussen-poll-shows-donald-trump-approval-ratings-now-51-percent/', 'display_url': 'breitbart.com/big-government…', 'indices': [85, 108]}], 'user_mentions': [], 'symbols': []}, 'favorited': False, 'retweeted': False, 'possibly_sensitive': False, 'filter_level': 'low', 'lang': 'en'}, 'is_quote_status': True, 'extended_tweet': {'full_text': \"I served 6 Presidents, 3 Rs &amp; 3Ds. I directly supported Clinton, Bush 43, and Obama. While I didn't agree with all their policy choices, I admired and respected all of them, as they put country above their personal interests. Not so with you, as your self adoration is disgraceful https://t.co/A1brb0HW3V\", 'display_text_range': [0, 284], 'entities': {'hashtags': [], 'urls': [{'url': 'https://t.co/A1brb0HW3V', 'expanded_url': 'https://twitter.com/realdonaldtrump/status/981669823221559302', 'display_url': 'twitter.com/realdonaldtrum…', 'indices': [285, 308]}], 'user_mentions': [], 'symbols': []}}, 'quote_count': 4420, 'reply_count': 10611, 'retweet_count': 95095, 'favorite_count': 294045, 'entities': {'hashtags': [], 'urls': [{'url': 'https://t.co/hTTiCbA1O5', 'expanded_url': 'https://twitter.com/i/web/status/981740185468702720', 'display_url': 'twitter.com/i/web/status/9…', 'indices': [120, 143]}], 'user_mentions': [], 'symbols': []}, 'favorited': False, 'retweeted': False, 'possibly_sensitive': False, 'filter_level': 'low', 'lang': 'en'}, 'quoted_status_id': 981669823221559302, 'quoted_status_id_str': '981669823221559302', 'quoted_status': {'created_at': 'Wed Apr 04 23:08:19 +0000 2018', 'id': 981669823221559302, 'id_str': '981669823221559302', 'text': '“Still Rising: Rasmussen Poll Shows Donald Trump Approval Ratings Now at 51 Percent” https://t.co/q80PaE0gQo', 'source': '<a href=\"http://twitter.com/download/iphone\" rel=\"nofollow\">Twitter for iPhone</a>', 'truncated': False, 'in_reply_to_status_id': None, 'in_reply_to_status_id_str': None, 'in_reply_to_user_id': None, 'in_reply_to_user_id_str': None, 'in_reply_to_screen_name': None, 'user': {'id': 25073877, 'id_str': '25073877', 'name': 'Donald J. Trump', 'screen_name': 'realDonaldTrump', 'location': 'Washington, DC', 'url': 'http://www.Instagram.com/realDonaldTrump', 'description': '45th President of the United States of America🇺🇸', 'translator_type': 'regular', 'protected': False, 'verified': True, 'followers_count': 50041952, 'friends_count': 45, 'listed_count': 85801, 'favourites_count': 24, 'statuses_count': 37247, 'created_at': 'Wed Mar 18 13:46:38 +0000 2009', 'utc_offset': -14400, 'time_zone': 'Eastern Time (US & Canada)', 'geo_enabled': True, 'lang': 'en', 'contributors_enabled': False, 'is_translator': False, 'profile_background_color': '6D5C18', 'profile_background_image_url': 'http://pbs.twimg.com/profile_background_images/530021613/trump_scotland__43_of_70_cc.jpg', 'profile_background_image_url_https': 'https://pbs.twimg.com/profile_background_images/530021613/trump_scotland__43_of_70_cc.jpg', 'profile_background_tile': True, 'profile_link_color': '1B95E0', 'profile_sidebar_border_color': 'BDDCAD', 'profile_sidebar_fill_color': 'C5CEC0', 'profile_text_color': '333333', 'profile_use_background_image': True, 'profile_image_url': 'http://pbs.twimg.com/profile_images/874276197357596672/kUuht00m_normal.jpg', 'profile_image_url_https': 'https://pbs.twimg.com/profile_images/874276197357596672/kUuht00m_normal.jpg', 'profile_banner_url': 'https://pbs.twimg.com/profile_banners/25073877/1521874230', 'default_profile': False, 'default_profile_image': False, 'following': None, 'follow_request_sent': None, 'notifications': None}, 'geo': None, 'coordinates': None, 'place': None, 'contributors': None, 'is_quote_status': False, 'quote_count': 3782, 'reply_count': 35715, 'retweet_count': 22715, 'favorite_count': 93931, 'entities': {'hashtags': [], 'urls': [{'url': 'https://t.co/q80PaE0gQo', 'expanded_url': 'http://www.breitbart.com/big-government/2018/04/04/still-rising-rasmussen-poll-shows-donald-trump-approval-ratings-now-51-percent/', 'display_url': 'breitbart.com/big-government…', 'indices': [85, 108]}], 'user_mentions': [], 'symbols': []}, 'favorited': False, 'retweeted': False, 'possibly_sensitive': False, 'filter_level': 'low', 'lang': 'en'}, 'is_quote_status': True, 'quote_count': 0, 'reply_count': 0, 'retweet_count': 0, 'favorite_count': 0, 'entities': {'hashtags': [], 'urls': [], 'user_mentions': [{'screen_name': 'JohnBrennan', 'name': 'John O. Brennan', 'id': 910492003359760384, 'id_str': '910492003359760384', 'indices': [3, 15]}], 'symbols': []}, 'favorited': False, 'retweeted': False, 'filter_level': 'low', 'lang': 'en', 'timestamp_ms': '1523096219414'}\n",
      "CarolynTopol ==> RT @JohnBrennan: I served 6 Presidents, 3 Rs &amp; 3Ds. I directly supported Clinton, Bush 43, and Obama. While I didn't agree with all their p… <== Sat Apr 07 10:16:59 +0000 2018 \n",
      "\n",
      "{'created_at': 'Sat Apr 07 10:16:59 +0000 2018', 'id': 982562876056469504, 'id_str': '982562876056469504', 'text': '#FakePOTUS #ImpeachTrump #TheResistance #FAKEPresident #TrumpRussia #Resist #TrumpCrimeFamily #NeverTrump… https://t.co/n3XqoQcj9o', 'source': '<a href=\"http://twitter.com\" rel=\"nofollow\">Twitter Web Client</a>', 'truncated': True, 'in_reply_to_status_id': None, 'in_reply_to_status_id_str': None, 'in_reply_to_user_id': None, 'in_reply_to_user_id_str': None, 'in_reply_to_screen_name': None, 'user': {'id': 36467899, 'id_str': '36467899', 'name': 'K8', 'screen_name': 'musecian', 'location': 'Colorado', 'url': None, 'description': None, 'translator_type': 'none', 'protected': False, 'verified': False, 'followers_count': 165, 'friends_count': 1024, 'listed_count': 2, 'favourites_count': 10096, 'statuses_count': 38127, 'created_at': 'Wed Apr 29 20:21:26 +0000 2009', 'utc_offset': -21600, 'time_zone': 'Mountain Time (US & Canada)', 'geo_enabled': False, 'lang': 'en', 'contributors_enabled': False, 'is_translator': False, 'profile_background_color': '000000', 'profile_background_image_url': 'http://pbs.twimg.com/profile_background_images/438876254/cross2.png', 'profile_background_image_url_https': 'https://pbs.twimg.com/profile_background_images/438876254/cross2.png', 'profile_background_tile': False, 'profile_link_color': '000000', 'profile_sidebar_border_color': '181A1E', 'profile_sidebar_fill_color': '252429', 'profile_text_color': '666666', 'profile_use_background_image': False, 'profile_image_url': 'http://pbs.twimg.com/profile_images/917581258158260224/8yj0n8GD_normal.jpg', 'profile_image_url_https': 'https://pbs.twimg.com/profile_images/917581258158260224/8yj0n8GD_normal.jpg', 'profile_banner_url': 'https://pbs.twimg.com/profile_banners/36467899/1507603431', 'default_profile': False, 'default_profile_image': False, 'following': None, 'follow_request_sent': None, 'notifications': None}, 'geo': None, 'coordinates': None, 'place': None, 'contributors': None, 'is_quote_status': False, 'extended_tweet': {'full_text': '#FakePOTUS #ImpeachTrump #TheResistance #FAKEPresident #TrumpRussia #Resist #TrumpCrimeFamily #NeverTrump #PIMPPOTUS #TreasonousTrump #TrumpColluded\\n#DumpTrump\\nMichelle Obama, Trump, and the Resistance https://t.co/WlP1o5CaUN via @msnbc', 'display_text_range': [0, 236], 'entities': {'hashtags': [{'text': 'FakePOTUS', 'indices': [0, 10]}, {'text': 'ImpeachTrump', 'indices': [11, 24]}, {'text': 'TheResistance', 'indices': [25, 39]}, {'text': 'FAKEPresident', 'indices': [40, 54]}, {'text': 'TrumpRussia', 'indices': [55, 67]}, {'text': 'Resist', 'indices': [68, 75]}, {'text': 'TrumpCrimeFamily', 'indices': [76, 93]}, {'text': 'NeverTrump', 'indices': [94, 105]}, {'text': 'PIMPPOTUS', 'indices': [106, 116]}, {'text': 'TreasonousTrump', 'indices': [117, 133]}, {'text': 'TrumpColluded', 'indices': [134, 148]}, {'text': 'DumpTrump', 'indices': [149, 159]}], 'urls': [{'url': 'https://t.co/WlP1o5CaUN', 'expanded_url': 'http://www.msnbc.com/the-last-word/watch/michelle-obama-trump-and-the-resistance-1204999235558', 'display_url': 'msnbc.com/the-last-word/…', 'indices': [202, 225]}], 'user_mentions': [{'screen_name': 'MSNBC', 'name': 'MSNBC', 'id': 2836421, 'id_str': '2836421', 'indices': [230, 236]}], 'symbols': []}}, 'quote_count': 0, 'reply_count': 0, 'retweet_count': 0, 'favorite_count': 0, 'entities': {'hashtags': [{'text': 'FakePOTUS', 'indices': [0, 10]}, {'text': 'ImpeachTrump', 'indices': [11, 24]}, {'text': 'TheResistance', 'indices': [25, 39]}, {'text': 'FAKEPresident', 'indices': [40, 54]}, {'text': 'TrumpRussia', 'indices': [55, 67]}, {'text': 'Resist', 'indices': [68, 75]}, {'text': 'TrumpCrimeFamily', 'indices': [76, 93]}, {'text': 'NeverTrump', 'indices': [94, 105]}], 'urls': [{'url': 'https://t.co/n3XqoQcj9o', 'expanded_url': 'https://twitter.com/i/web/status/982562876056469504', 'display_url': 'twitter.com/i/web/status/9…', 'indices': [107, 130]}], 'user_mentions': [], 'symbols': []}, 'favorited': False, 'retweeted': False, 'possibly_sensitive': False, 'filter_level': 'low', 'lang': 'en', 'timestamp_ms': '1523096219444'}\n",
      "musecian ==> #FakePOTUS #ImpeachTrump #TheResistance #FAKEPresident #TrumpRussia #Resist #TrumpCrimeFamily #NeverTrump… https://t.co/n3XqoQcj9o <== Sat Apr 07 10:16:59 +0000 2018 \n",
      "\n",
      "{'created_at': 'Sat Apr 07 10:16:59 +0000 2018', 'id': 982562877079945221, 'id_str': '982562877079945221', 'text': 'RT @EdKrassen: So Trump now wants DHS to track journalists, media personalities and most intriguing, social media influencers.  That means…', 'source': '<a href=\"http://twitter.com/download/android\" rel=\"nofollow\">Twitter for Android</a>', 'truncated': False, 'in_reply_to_status_id': None, 'in_reply_to_status_id_str': None, 'in_reply_to_user_id': None, 'in_reply_to_user_id_str': None, 'in_reply_to_screen_name': None, 'user': {'id': 964282317857574912, 'id_str': '964282317857574912', 'name': 'Why all the Cheese', 'screen_name': 'TiredofBS1111', 'location': 'Here', 'url': None, 'description': 'Tired of the Cheesy BS', 'translator_type': 'none', 'protected': False, 'verified': False, 'followers_count': 182, 'friends_count': 467, 'listed_count': 0, 'favourites_count': 2893, 'statuses_count': 2559, 'created_at': 'Thu Feb 15 23:36:34 +0000 2018', 'utc_offset': None, 'time_zone': None, 'geo_enabled': False, 'lang': 'en', 'contributors_enabled': False, 'is_translator': False, 'profile_background_color': 'F5F8FA', 'profile_background_image_url': '', 'profile_background_image_url_https': '', 'profile_background_tile': False, 'profile_link_color': '1DA1F2', 'profile_sidebar_border_color': 'C0DEED', 'profile_sidebar_fill_color': 'DDEEF6', 'profile_text_color': '333333', 'profile_use_background_image': True, 'profile_image_url': 'http://pbs.twimg.com/profile_images/968250268453306368/l0Vmdm-O_normal.jpg', 'profile_image_url_https': 'https://pbs.twimg.com/profile_images/968250268453306368/l0Vmdm-O_normal.jpg', 'default_profile': True, 'default_profile_image': False, 'following': None, 'follow_request_sent': None, 'notifications': None}, 'geo': None, 'coordinates': None, 'place': None, 'contributors': None, 'retweeted_status': {'created_at': 'Sat Apr 07 10:02:09 +0000 2018', 'id': 982559143335809024, 'id_str': '982559143335809024', 'text': 'So Trump now wants DHS to track journalists, media personalities and most intriguing, social media influencers.  Th… https://t.co/4KOJzlnPAk', 'source': '<a href=\"http://twitter.com/download/iphone\" rel=\"nofollow\">Twitter for iPhone</a>', 'truncated': True, 'in_reply_to_status_id': None, 'in_reply_to_status_id_str': None, 'in_reply_to_user_id': None, 'in_reply_to_user_id_str': None, 'in_reply_to_screen_name': None, 'user': {'id': 132339474, 'id_str': '132339474', 'name': 'Ed Krassenstein 💎', 'screen_name': 'EdKrassen', 'location': 'Fort Myers, FL', 'url': 'https://www.youtube.com/channel/UCSKCUhBSBWbnu3Tg0-DD8lg', 'description': 'Journalist, Entrepreneur, Investor, Cryptocurrency, #Resist Trump, #NeverAgain, Bitcoin, Contact me: ed@edkrass.com', 'translator_type': 'none', 'protected': False, 'verified': False, 'followers_count': 695733, 'friends_count': 469679, 'listed_count': 5502, 'favourites_count': 17388, 'statuses_count': 27837, 'created_at': 'Tue Apr 13 00:00:13 +0000 2010', 'utc_offset': -14400, 'time_zone': 'Eastern Time (US & Canada)', 'geo_enabled': False, 'lang': 'en', 'contributors_enabled': False, 'is_translator': False, 'profile_background_color': '000000', 'profile_background_image_url': 'http://abs.twimg.com/images/themes/theme1/bg.png', 'profile_background_image_url_https': 'https://abs.twimg.com/images/themes/theme1/bg.png', 'profile_background_tile': False, 'profile_link_color': '229900', 'profile_sidebar_border_color': '000000', 'profile_sidebar_fill_color': '000000', 'profile_text_color': '000000', 'profile_use_background_image': False, 'profile_image_url': 'http://pbs.twimg.com/profile_images/898145254649372673/gzy1JVKe_normal.jpg', 'profile_image_url_https': 'https://pbs.twimg.com/profile_images/898145254649372673/gzy1JVKe_normal.jpg', 'profile_banner_url': 'https://pbs.twimg.com/profile_banners/132339474/1502969915', 'default_profile': False, 'default_profile_image': False, 'following': None, 'follow_request_sent': None, 'notifications': None}, 'geo': None, 'coordinates': None, 'place': None, 'contributors': None, 'is_quote_status': False, 'extended_tweet': {'full_text': 'So Trump now wants DHS to track journalists, media personalities and most intriguing, social media influencers.  That means that if you post on Twitter, they can track you.  This is an effort to take away our freedom of speech and the freedom of the press.', 'display_text_range': [0, 256], 'entities': {'hashtags': [], 'urls': [], 'user_mentions': [], 'symbols': []}}, 'quote_count': 14, 'reply_count': 55, 'retweet_count': 196, 'favorite_count': 345, 'entities': {'hashtags': [], 'urls': [{'url': 'https://t.co/4KOJzlnPAk', 'expanded_url': 'https://twitter.com/i/web/status/982559143335809024', 'display_url': 'twitter.com/i/web/status/9…', 'indices': [117, 140]}], 'user_mentions': [], 'symbols': []}, 'favorited': False, 'retweeted': False, 'filter_level': 'low', 'lang': 'en'}, 'is_quote_status': False, 'quote_count': 0, 'reply_count': 0, 'retweet_count': 0, 'favorite_count': 0, 'entities': {'hashtags': [], 'urls': [], 'user_mentions': [{'screen_name': 'EdKrassen', 'name': 'Ed Krassenstein 💎', 'id': 132339474, 'id_str': '132339474', 'indices': [3, 13]}], 'symbols': []}, 'favorited': False, 'retweeted': False, 'filter_level': 'low', 'lang': 'en', 'timestamp_ms': '1523096219688'}\n",
      "TiredofBS1111 ==> RT @EdKrassen: So Trump now wants DHS to track journalists, media personalities and most intriguing, social media influencers.  That means… <== Sat Apr 07 10:16:59 +0000 2018 \n",
      "\n",
      "{'created_at': 'Sat Apr 07 10:16:59 +0000 2018', 'id': 982562877386063874, 'id_str': '982562877386063874', 'text': 'RT @IngrahamAngle: Hey, when you hear Sen. Ben Sasse slamming @realDonaldTrump trade policy—remember he was one of those who reveled in hit…', 'source': '<a href=\"http://twitter.com\" rel=\"nofollow\">Twitter Web Client</a>', 'truncated': False, 'in_reply_to_status_id': None, 'in_reply_to_status_id_str': None, 'in_reply_to_user_id': None, 'in_reply_to_user_id_str': None, 'in_reply_to_screen_name': None, 'user': {'id': 227424970, 'id_str': '227424970', 'name': 'Victoria Taylor', 'screen_name': 'VictoryaTaylor', 'location': None, 'url': 'http://spiritualitypointloma.com', 'description': 'Copywriter, Christian Science Lay Minister for USMC, Heritage Action Sentinel, conservative, mother (views my own)', 'translator_type': 'none', 'protected': False, 'verified': False, 'followers_count': 379, 'friends_count': 696, 'listed_count': 11, 'favourites_count': 7477, 'statuses_count': 10715, 'created_at': 'Thu Dec 16 20:26:26 +0000 2010', 'utc_offset': -25200, 'time_zone': 'Pacific Time (US & Canada)', 'geo_enabled': True, 'lang': 'en', 'contributors_enabled': False, 'is_translator': False, 'profile_background_color': 'FFF04D', 'profile_background_image_url': 'http://abs.twimg.com/images/themes/theme19/bg.gif', 'profile_background_image_url_https': 'https://abs.twimg.com/images/themes/theme19/bg.gif', 'profile_background_tile': False, 'profile_link_color': '3B94D9', 'profile_sidebar_border_color': 'FFF8AD', 'profile_sidebar_fill_color': 'F6FFD1', 'profile_text_color': '333333', 'profile_use_background_image': True, 'profile_image_url': 'http://pbs.twimg.com/profile_images/533705473938059265/PejLD4fu_normal.jpeg', 'profile_image_url_https': 'https://pbs.twimg.com/profile_images/533705473938059265/PejLD4fu_normal.jpeg', 'default_profile': False, 'default_profile_image': False, 'following': None, 'follow_request_sent': None, 'notifications': None}, 'geo': None, 'coordinates': None, 'place': None, 'contributors': None, 'retweeted_status': {'created_at': 'Fri Apr 06 17:02:46 +0000 2018', 'id': 982302605987721217, 'id_str': '982302605987721217', 'text': 'Hey, when you hear Sen. Ben Sasse slamming @realDonaldTrump trade policy—remember he was one of those who reveled i… https://t.co/fd2YOWCapd', 'source': '<a href=\"http://twitter.com/download/iphone\" rel=\"nofollow\">Twitter for iPhone</a>', 'truncated': True, 'in_reply_to_status_id': None, 'in_reply_to_status_id_str': None, 'in_reply_to_user_id': None, 'in_reply_to_user_id_str': None, 'in_reply_to_screen_name': None, 'user': {'id': 50769180, 'id_str': '50769180', 'name': 'Laura Ingraham', 'screen_name': 'IngrahamAngle', 'location': 'DC', 'url': 'http://www.lauraingraham.com', 'description': 'Mom, author, TV & Radio Host, The Ingraham Angle 10p ET Fox News, The Laura Ingraham Show, 9 to Noon ET http://lauraingraham.com. Retweets do not = Endorsements', 'translator_type': 'none', 'protected': False, 'verified': True, 'followers_count': 2201774, 'friends_count': 342, 'listed_count': 11503, 'favourites_count': 412, 'statuses_count': 33432, 'created_at': 'Thu Jun 25 21:03:25 +0000 2009', 'utc_offset': -14400, 'time_zone': 'Eastern Time (US & Canada)', 'geo_enabled': True, 'lang': 'en', 'contributors_enabled': False, 'is_translator': False, 'profile_background_color': 'DBE9ED', 'profile_background_image_url': 'http://pbs.twimg.com/profile_background_images/450661623368146944/0SxSXve6.jpeg', 'profile_background_image_url_https': 'https://pbs.twimg.com/profile_background_images/450661623368146944/0SxSXve6.jpeg', 'profile_background_tile': False, 'profile_link_color': 'CC3366', 'profile_sidebar_border_color': 'FFFFFF', 'profile_sidebar_fill_color': 'DDEEF6', 'profile_text_color': '333333', 'profile_use_background_image': True, 'profile_image_url': 'http://pbs.twimg.com/profile_images/926303888365510656/IHt-GEhl_normal.jpg', 'profile_image_url_https': 'https://pbs.twimg.com/profile_images/926303888365510656/IHt-GEhl_normal.jpg', 'profile_banner_url': 'https://pbs.twimg.com/profile_banners/50769180/1509683033', 'default_profile': False, 'default_profile_image': False, 'following': None, 'follow_request_sent': None, 'notifications': None}, 'geo': None, 'coordinates': None, 'place': None, 'contributors': None, 'is_quote_status': False, 'extended_tweet': {'full_text': 'Hey, when you hear Sen. Ben Sasse slamming @realDonaldTrump trade policy—remember he was one of those who reveled in hitting Trump the candidate too.  Stop undercutting @POTUS when he’s negs w/China.', 'display_text_range': [0, 199], 'entities': {'hashtags': [], 'urls': [], 'user_mentions': [{'screen_name': 'realDonaldTrump', 'name': 'Donald J. Trump', 'id': 25073877, 'id_str': '25073877', 'indices': [43, 59]}, {'screen_name': 'POTUS', 'name': 'President Trump', 'id': 822215679726100480, 'id_str': '822215679726100480', 'indices': [169, 175]}], 'symbols': []}}, 'quote_count': 81, 'reply_count': 521, 'retweet_count': 2097, 'favorite_count': 7917, 'entities': {'hashtags': [], 'urls': [{'url': 'https://t.co/fd2YOWCapd', 'expanded_url': 'https://twitter.com/i/web/status/982302605987721217', 'display_url': 'twitter.com/i/web/status/9…', 'indices': [117, 140]}], 'user_mentions': [{'screen_name': 'realDonaldTrump', 'name': 'Donald J. Trump', 'id': 25073877, 'id_str': '25073877', 'indices': [43, 59]}], 'symbols': []}, 'favorited': False, 'retweeted': False, 'filter_level': 'low', 'lang': 'en'}, 'is_quote_status': False, 'quote_count': 0, 'reply_count': 0, 'retweet_count': 0, 'favorite_count': 0, 'entities': {'hashtags': [], 'urls': [], 'user_mentions': [{'screen_name': 'IngrahamAngle', 'name': 'Laura Ingraham', 'id': 50769180, 'id_str': '50769180', 'indices': [3, 17]}, {'screen_name': 'realDonaldTrump', 'name': 'Donald J. Trump', 'id': 25073877, 'id_str': '25073877', 'indices': [62, 78]}], 'symbols': []}, 'favorited': False, 'retweeted': False, 'filter_level': 'low', 'lang': 'en', 'timestamp_ms': '1523096219761'}\n",
      "VictoryaTaylor ==> RT @IngrahamAngle: Hey, when you hear Sen. Ben Sasse slamming @realDonaldTrump trade policy—remember he was one of those who reveled in hit… <== Sat Apr 07 10:16:59 +0000 2018 \n",
      "\n"
     ]
    }
   ],
   "source": [
    "# create a stream listener object with 'time_limit' seconds restriction\n",
    "my_stream_listener = MyStreamListener(time_limit = 60, count_limit = 10)\n",
    "twitter_streamer = tweepy.Stream(auth=twitter_api.auth,\n",
    "                                listener = my_stream_listener,\n",
    "                                tweet_mode='extended_tweet')\n",
    "\n",
    "# specify a list of topics you are interested in \n",
    "topic_list = ['trump']\n",
    "twitter_streamer.filter(track= topic_list,\n",
    "                        async=False,\n",
    "                        languages=['en'])\n"
   ]
  },
  {
   "cell_type": "code",
   "execution_count": 10,
   "metadata": {
    "collapsed": false,
    "scrolled": false
   },
   "outputs": [
    {
     "name": "stdout",
     "output_type": "stream",
     "text": [
      "Tweet Count:1\n",
      "\n",
      "User Name:LeCorbeauBleu\n",
      "\n",
      "Tweet:@SafetyPinDaily Oh no!\n",
      "\n",
      "well, no worries, tRump will probably  help them out, they are his voters after all!\n",
      "\n",
      "Time Stamp:Sat Apr 07 10:16:58 +0000 2018\n",
      "\n",
      "===================================================< \n",
      "\n",
      "Tweet Count:2\n",
      "\n",
      "User Name:Dax_x98\n",
      "\n",
      "Tweet:RT @Dax_x98: #FBR party\n",
      "\n",
      "\n",
      "\n",
      "LIKE❤\n",
      "\n",
      "\n",
      "\n",
      "RT♻️\n",
      "\n",
      "\n",
      "\n",
      "FOLLOW ALL WHO RT🌊\n",
      "\n",
      "\n",
      "\n",
      "@realDonaldTrump @VP @mike_pence #TheResistance #Resistance #ImpeachTrump #NotMyP…\n",
      "\n",
      "Time Stamp:Sat Apr 07 10:16:58 +0000 2018\n",
      "\n",
      "===================================================< \n",
      "\n",
      "Tweet Count:3\n",
      "\n",
      "User Name:RSNightwatch\n",
      "\n",
      "Tweet:The Memo: Trump’s risky gambit on trade roils markets https://t.co/h1Hn2S0eM6\n",
      "\n",
      "Time Stamp:Sat Apr 07 10:16:59 +0000 2018\n",
      "\n",
      "===================================================< \n",
      "\n",
      "Tweet Count:4\n",
      "\n",
      "User Name:BeachCity55\n",
      "\n",
      "Tweet:Will We Stop Trump Before It’s Too Late? https://t.co/8j1Cpq4ItU - We who?? Trump is president. YOU are not! Where… https://t.co/vlXdi1Zkbm\n",
      "\n",
      "Time Stamp:Sat Apr 07 10:16:59 +0000 2018\n",
      "\n",
      "===================================================< \n",
      "\n",
      "Tweet Count:5\n",
      "\n",
      "User Name:ann10551955\n",
      "\n",
      "Tweet:I'm w Jimmy!!!!! https://t.co/fmJq3Jij3Z\n",
      "\n",
      "Time Stamp:Sat Apr 07 10:16:59 +0000 2018\n",
      "\n",
      "===================================================< \n",
      "\n",
      "Tweet Count:6\n",
      "\n",
      "User Name:rantingpanda1\n",
      "\n",
      "Tweet:RT @ajsgmajc: This is the most ridiculous and laughable thing I've read this....week. https://t.co/SM7UXYPpqW\n",
      "\n",
      "Time Stamp:Sat Apr 07 10:16:59 +0000 2018\n",
      "\n",
      "===================================================< \n",
      "\n",
      "Tweet Count:7\n",
      "\n",
      "User Name:CarolynTopol\n",
      "\n",
      "Tweet:RT @JohnBrennan: I served 6 Presidents, 3 Rs &amp; 3Ds. I directly supported Clinton, Bush 43, and Obama. While I didn't agree with all their p…\n",
      "\n",
      "Time Stamp:Sat Apr 07 10:16:59 +0000 2018\n",
      "\n",
      "===================================================< \n",
      "\n",
      "Tweet Count:8\n",
      "\n",
      "User Name:musecian\n",
      "\n",
      "Tweet:#FakePOTUS #ImpeachTrump #TheResistance #FAKEPresident #TrumpRussia #Resist #TrumpCrimeFamily #NeverTrump… https://t.co/n3XqoQcj9o\n",
      "\n",
      "Time Stamp:Sat Apr 07 10:16:59 +0000 2018\n",
      "\n",
      "===================================================< \n",
      "\n",
      "Tweet Count:9\n",
      "\n",
      "User Name:TiredofBS1111\n",
      "\n",
      "Tweet:RT @EdKrassen: So Trump now wants DHS to track journalists, media personalities and most intriguing, social media influencers.  That means…\n",
      "\n",
      "Time Stamp:Sat Apr 07 10:16:59 +0000 2018\n",
      "\n",
      "===================================================< \n",
      "\n",
      "Tweet Count:10\n",
      "\n",
      "User Name:VictoryaTaylor\n",
      "\n",
      "Tweet:RT @IngrahamAngle: Hey, when you hear Sen. Ben Sasse slamming @realDonaldTrump trade policy—remember he was one of those who reveled in hit…\n",
      "\n",
      "Time Stamp:Sat Apr 07 10:16:59 +0000 2018\n",
      "\n",
      "===================================================< \n",
      "\n"
     ]
    }
   ],
   "source": [
    "# print the tweet data saved in the file\n",
    "f = open(\"./logs.txt\",\"r\", encoding=\"utf-8\")\n",
    "for line in f:\n",
    "    print(line)"
   ]
  },
  {
   "cell_type": "code",
   "execution_count": null,
   "metadata": {
    "collapsed": true
   },
   "outputs": [],
   "source": []
  }
 ],
 "metadata": {
  "kernelspec": {
   "display_name": "Python 3",
   "language": "python",
   "name": "python3"
  },
  "language_info": {
   "codemirror_mode": {
    "name": "ipython",
    "version": 3
   },
   "file_extension": ".py",
   "mimetype": "text/x-python",
   "name": "python",
   "nbconvert_exporter": "python",
   "pygments_lexer": "ipython3",
   "version": "3.6.0"
  }
 },
 "nbformat": 4,
 "nbformat_minor": 2
}
